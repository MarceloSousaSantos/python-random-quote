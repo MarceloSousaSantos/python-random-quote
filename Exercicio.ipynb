{
  "nbformat": 4,
  "nbformat_minor": 0,
  "metadata": {
    "colab": {
      "provenance": [],
      "authorship_tag": "ABX9TyM/OymOqQ8xs8C4JaMk9Yv2",
      "include_colab_link": true
    },
    "kernelspec": {
      "name": "python3",
      "display_name": "Python 3"
    },
    "language_info": {
      "name": "python"
    }
  },
  "cells": [
    {
      "cell_type": "markdown",
      "metadata": {
        "id": "view-in-github",
        "colab_type": "text"
      },
      "source": [
        "<a href=\"https://colab.research.google.com/github/MarceloSousaSantos/python-random-quote/blob/master/Exercicio.ipynb\" target=\"_parent\"><img src=\"https://colab.research.google.com/assets/colab-badge.svg\" alt=\"Open In Colab\"/></a>"
      ]
    },
    {
      "cell_type": "code",
      "source": [
        "#Adicionei 'NOTAS' para criar uma lista vazia.\n",
        "notas = []\n",
        "\n",
        "#usei a estrutura de repetição 'for' com auxílio do range para contar as entradas na função 'input'\n",
        "for n in range(4):\n",
        "\n",
        "#a função 'while' verifica se a entrada no input é valida\n",
        "    while True:\n",
        "#usei a função 'try' para precaver algum erro que o usuario possa encontrar, se o erro for identificado o codigo irar pedir a informação corretamente\n",
        "        try:\n",
        "#define a variavel 'notas1' para usar o input e usei a lentra 'n' para armazenar a seguencia de números que seria adicionada a lista exp (n+1)\n",
        "            nota1 = float(input(f'Digite a nota {n+1}: '))\n",
        "\n",
        "#aqui faço uma breve compração sobre os valores digitados pelo usuario, se a nota não tiver entre 0 e 10 o codigo ir pedir para que o usuario adicione um número valido\n",
        "            if nota1 < 0 or nota1 > 10:\n",
        "                print('Digite um número válido de 0 a 10!')\n",
        "            else:\n",
        "#aqui usei a função 'append' para adicionar os inputs para dentro da lista 'notas'\n",
        "                notas.append(nota1)\n",
        "                break\n",
        "        except ValueError:\n",
        "            print('Digite apenas números')\n",
        "\n",
        "#Foi definido uma variavel para a média anual e usei a função 'SUM' para somar e a função 'LEN' para calcular a\n",
        "#quantidade de notas que avia dentro da lista.3\n",
        "media = sum(notas) / len(notas)\n",
        "#foi definido o parametro para resolver se estaria aprovado ou não.\n",
        "parametro = 7\n",
        "if media >= parametro:\n",
        "    print(f'O Aluno foi aprovado!')\n",
        "    print(f'A média anual, {media}')\n",
        "    print(f'As notas foram, {notas}')\n",
        "else:\n",
        "    print(f'Reprovado!')\n",
        "    print(f'A média anual, {media}')\n",
        "    print(f'As notas foram, {notas}')"
      ],
      "metadata": {
        "colab": {
          "base_uri": "https://localhost:8080/",
          "height": 0
        },
        "id": "D7ieuQIwkLG_",
        "outputId": "0222ebf2-406f-486f-8cc2-5af3ff39c65a"
      },
      "execution_count": 2,
      "outputs": [
        {
          "output_type": "stream",
          "name": "stdout",
          "text": [
            "Digite a nota 1: \n",
            "Digite apenas números\n",
            "Digite a nota 1: 5\n",
            "Digite a nota 2: 4\n",
            "Digite a nota 3: 6\n",
            "Digite a nota 4: 10\n",
            "Reprovado!\n",
            "A média anual, 6.25\n",
            "As notas foram, [5.0, 4.0, 6.0, 10.0]\n"
          ]
        }
      ]
    }
  ]
}